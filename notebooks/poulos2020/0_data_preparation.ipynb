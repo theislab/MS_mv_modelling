{
 "cells": [
  {
   "cell_type": "markdown",
   "metadata": {},
   "source": [
    "# Data Preparation"
   ]
  },
  {
   "cell_type": "markdown",
   "metadata": {},
   "source": [
    "Let's load the data into a h5ad object. Dataset is available at [PRIDE](https://www.ebi.ac.uk/pride/archive/projects/PXD015912)."
   ]
  },
  {
   "cell_type": "code",
   "execution_count": 1,
   "metadata": {},
   "outputs": [
    {
     "name": "stderr",
     "output_type": "stream",
     "text": [
      "Seed set to 0\n"
     ]
    }
   ],
   "source": [
    "%reload_ext autoreload\n",
    "%autoreload 2\n",
    "%matplotlib inline\n",
    "\n",
    "import os\n",
    "import warnings\n",
    "import numpy as np\n",
    "import pandas as pd\n",
    "import matplotlib.pyplot as plt\n",
    "import seaborn as sns\n",
    "import scanpy as sc\n",
    "import torch\n",
    "\n",
    "warnings.filterwarnings(\"ignore\", category=FutureWarning)\n",
    "warnings.filterwarnings(\"ignore\", category=UserWarning)\n",
    "\n",
    "import protvi.plots as pl\n",
    "import protvi.utils as utils\n",
    "import protvi.benchmark_models as bm\n",
    "\n",
    "import scvi\n",
    "\n",
    "np.random.seed(0)\n",
    "scvi.settings.seed = 0"
   ]
  },
  {
   "cell_type": "markdown",
   "metadata": {},
   "source": [
    "Let's define the path to the data and load it into anndata."
   ]
  },
  {
   "cell_type": "code",
   "execution_count": 2,
   "metadata": {},
   "outputs": [],
   "source": [
    "DATA_DIR = \"../../data/raw/poulos2020\"\n",
    "DATA_PATH = os.path.join(DATA_DIR, \"Peptide_intensity_matrix_b9369842-f3cf-4383-9e5c-6734dadcfbc9.csv\")\n",
    "ANNOTATION_PATH = os.path.join(DATA_DIR, \"Mapping_file_PXD015912.xlsx\")\n",
    "GROUPING_PATH = os.path.join(DATA_DIR, \"41467_2020_17641_MOESM5_ESM.xlsx\")"
   ]
  },
  {
   "cell_type": "code",
   "execution_count": 3,
   "metadata": {},
   "outputs": [],
   "source": [
    "data = pd.read_csv(DATA_PATH, sep=\"\\t\")\n",
    "annotations = pd.read_excel(ANNOTATION_PATH, sheet_name=\"PXD015912\")\n",
    "#groups = pd.read_excel(GROUPING_PATH, sheet_name=\"Supplementary_Data_2\", header=2)"
   ]
  },
  {
   "cell_type": "code",
   "execution_count": 4,
   "metadata": {},
   "outputs": [],
   "source": [
    "var_cols = [c for c in data.columns if not c[0].isdigit()]\n",
    "vars = data[var_cols]\n",
    "\n",
    "data.drop(var_cols, axis=1, inplace=True)"
   ]
  },
  {
   "cell_type": "markdown",
   "metadata": {},
   "source": [
    "Let's log normalize."
   ]
  },
  {
   "cell_type": "code",
   "execution_count": 5,
   "metadata": {},
   "outputs": [],
   "source": [
    "data = data.T\n",
    "data = np.log(data + 1)"
   ]
  },
  {
   "cell_type": "code",
   "execution_count": 6,
   "metadata": {},
   "outputs": [],
   "source": [
    "obs = annotations.copy()\n",
    "#obs = pd.merge(obs, groups, left_on=\"Filename\", right_on=\"File Name\")\n",
    "\n",
    "obs[\"name\"] = obs[\"Filename\"].str.lower()"
   ]
  },
  {
   "cell_type": "code",
   "execution_count": 7,
   "metadata": {},
   "outputs": [],
   "source": [
    "obs = pd.merge(obs, pd.Series(data.index, name=\"name\"), left_on=\"name\", right_on=\"name\")\n",
    "obs.set_index(\"name\", inplace=True)\n",
    "\n",
    "data = data.loc[obs.index]"
   ]
  },
  {
   "cell_type": "code",
   "execution_count": 8,
   "metadata": {},
   "outputs": [],
   "source": [
    "obs.sort_index(inplace=True)\n",
    "data.sort_index(inplace=True)"
   ]
  },
  {
   "cell_type": "code",
   "execution_count": 9,
   "metadata": {},
   "outputs": [],
   "source": [
    "info = obs[\"Information\"].str.split(\"_\")\n",
    "\n",
    "obs[\"day\"] = [i[0] for i in info]\n",
    "obs[\"method\"] = [i[1] for i in info]\n",
    "obs[\"sample\"] = [i[2].split(\".\")[0] for i in info]\n",
    "\n",
    "obs[\"ratio\"] = [(\"_\".join(i[2].split(\".\")[1:]))[1:] for i in info]"
   ]
  },
  {
   "cell_type": "code",
   "execution_count": 10,
   "metadata": {},
   "outputs": [],
   "source": [
    "def get_ratio(raw):\n",
    "    raw = raw.rstrip()\n",
    "    raw = raw.lstrip()\n",
    "    ratio = raw.split(\"%\")[0]\n",
    "    ratio = ratio.replace(\"_\", \".\")\n",
    "    fratio = float(ratio) / 100\n",
    "    return fratio\n",
    "\n",
    "obs[\"ovary\"] = 0.0\n",
    "obs[\"prostate\"] = 0.0\n",
    "obs[\"yeast\"] = 0.0\n",
    "obs[\"hek293t\"] = 0.0\n",
    "\n",
    "for i, row in obs.iterrows():\n",
    "    ratio = row[\"ratio\"]\n",
    "    if ratio.startswith(\"HEK293T\"):\n",
    "        obs.loc[i, \"hek293t\"] = 1\n",
    "    else:\n",
    "        types = ratio.split(\"/\")\n",
    "\n",
    "        assert len(types) == 3\n",
    "\n",
    "        assert \"Ovary\" in types[0]\n",
    "        obs.loc[i, \"ovary\"] = get_ratio(types[0])\n",
    "        \n",
    "        assert \"Prostate\" in types[1]\n",
    "        obs.loc[i, \"prostate\"] = get_ratio(types[1])\n",
    "\n",
    "        assert \"Yeast\" in types[2]\n",
    "        obs.loc[i, \"yeast\"] = get_ratio(types[2])"
   ]
  },
  {
   "cell_type": "code",
   "execution_count": 11,
   "metadata": {},
   "outputs": [],
   "source": [
    "obs[\"control\"] = (obs[\"hek293t\"] == 1).astype(int)\n",
    "obs[\"ovary\"] = obs[\"ovary\"].astype(\"category\")\n",
    "obs[\"prostate\"] = obs[\"prostate\"].astype(\"category\")\n",
    "obs[\"yeast\"] = obs[\"yeast\"].astype(\"category\")"
   ]
  },
  {
   "cell_type": "code",
   "execution_count": 12,
   "metadata": {},
   "outputs": [],
   "source": [
    "adata = sc.AnnData(X=data, obs=obs, var=vars)\n",
    "\n",
    "adata = adata[~np.all(np.isnan(adata.X), axis=1), :].copy()\n",
    "adata = adata[:, ~np.all(np.isnan(adata.X), axis=0)].copy()\n",
    "\n",
    "adata.layers[\"raw\"] = adata.X.copy()\n",
    "\n",
    "adata.obs[\"sample_no\"] = adata.obs[\"sample\"].astype(\"category\").cat.codes\n",
    "adata.var[\"species\"] = adata.var[\"Protein\"].str.split(\"_\", expand=True)[1]\n",
    "\n",
    "adata.var[\"Peptide\"] = adata.var[\"Peptide\"].astype(str)"
   ]
  },
  {
   "cell_type": "code",
   "execution_count": 13,
   "metadata": {},
   "outputs": [],
   "source": [
    "adata.obs[\"day\"] = adata.obs[\"day\"].astype(\"category\")\n",
    "adata.obs[\"method\"] = adata.obs[\"method\"].astype(\"category\")\n",
    "adata.obs[\"sample\"] = adata.obs[\"sample\"].astype(\"category\")\n",
    "adata.obs[\"ratio\"] = adata.obs[\"ratio\"].astype(\"category\")\n",
    "adata.obs[\"sample_no\"] = adata.obs[\"sample_no\"].astype(\"category\")"
   ]
  },
  {
   "cell_type": "code",
   "execution_count": 14,
   "metadata": {},
   "outputs": [],
   "source": [
    "adata.obs[\"replicate\"] = adata.obs_names.str.replace(\"(.*)_s_(.*)\",\"\\\\2\", regex=True)\n",
    "adata.obs.replicate = adata.obs.replicate.astype(\"category\")"
   ]
  },
  {
   "cell_type": "code",
   "execution_count": 15,
   "metadata": {},
   "outputs": [
    {
     "data": {
      "text/plain": [
       "AnnData object with n_obs × n_vars = 1553 × 18114\n",
       "    obs: 'Filename', 'Filetype', 'Information', 'day', 'method', 'sample', 'ratio', 'ovary', 'prostate', 'yeast', 'hek293t', 'control', 'sample_no', 'replicate'\n",
       "    var: 'Protein', 'Peptide', 'ModifiedPeptide', 'species'\n",
       "    layers: 'raw'"
      ]
     },
     "execution_count": 15,
     "metadata": {},
     "output_type": "execute_result"
    }
   ],
   "source": [
    "adata"
   ]
  },
  {
   "cell_type": "code",
   "execution_count": 16,
   "metadata": {},
   "outputs": [
    {
     "name": "stdout",
     "output_type": "stream",
     "text": [
      "nan intensities: 45.52%\n"
     ]
    }
   ],
   "source": [
    "print(f\"nan intensities: {np.isnan(adata.layers['raw']).sum() / (adata.shape[0] * adata.shape[1]) * 100:.2f}%\")"
   ]
  },
  {
   "cell_type": "code",
   "execution_count": 17,
   "metadata": {},
   "outputs": [],
   "source": [
    "adata.write(\"../../data/processed/poulos2020.h5ad\")"
   ]
  },
  {
   "cell_type": "code",
   "execution_count": null,
   "metadata": {},
   "outputs": [],
   "source": []
  }
 ],
 "metadata": {
  "kernelspec": {
   "display_name": "scp",
   "language": "python",
   "name": "python3"
  },
  "language_info": {
   "codemirror_mode": {
    "name": "ipython",
    "version": 3
   },
   "file_extension": ".py",
   "mimetype": "text/x-python",
   "name": "python",
   "nbconvert_exporter": "python",
   "pygments_lexer": "ipython3",
   "version": "3.11.9"
  },
  "orig_nbformat": 4
 },
 "nbformat": 4,
 "nbformat_minor": 2
}
