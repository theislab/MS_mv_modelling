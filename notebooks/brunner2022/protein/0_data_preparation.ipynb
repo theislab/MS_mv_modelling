{
 "cells": [
  {
   "cell_type": "markdown",
   "metadata": {},
   "source": [
    "# Data preparation"
   ]
  },
  {
   "cell_type": "code",
   "execution_count": 1,
   "metadata": {},
   "outputs": [],
   "source": [
    "%reload_ext autoreload\n",
    "%autoreload 2\n",
    "%matplotlib inline\n",
    "\n",
    "import warnings\n",
    "import numpy as np\n",
    "import pandas as pd\n",
    "import matplotlib.pyplot as plt\n",
    "import seaborn as sns\n",
    "import scanpy as sc\n",
    "\n",
    "warnings.filterwarnings(\"ignore\", category=FutureWarning)\n",
    "warnings.filterwarnings(\"ignore\", category=UserWarning)\n"
   ]
  },
  {
   "cell_type": "markdown",
   "metadata": {},
   "source": [
    "Let's define the path to the data."
   ]
  },
  {
   "cell_type": "code",
   "execution_count": 2,
   "metadata": {},
   "outputs": [],
   "source": [
    "DATA_PATH = \"../../../data/raw/PXD024043/20210919_DIANN_SingleCellOutput.pg_matrix.tsv\""
   ]
  },
  {
   "cell_type": "markdown",
   "metadata": {},
   "source": [
    "## Data loading"
   ]
  },
  {
   "cell_type": "markdown",
   "metadata": {},
   "source": [
    "Let's load the data"
   ]
  },
  {
   "cell_type": "code",
   "execution_count": 3,
   "metadata": {},
   "outputs": [],
   "source": [
    "data = pd.read_csv(DATA_PATH, sep=\"\\t\")"
   ]
  },
  {
   "cell_type": "code",
   "execution_count": 4,
   "metadata": {},
   "outputs": [],
   "source": [
    "var_cols = [c for c in data.columns if \"D:\\\\\" not in c]\n",
    "vars = data[var_cols]\n",
    "\n",
    "data.drop(var_cols, axis=1, inplace=True)\n",
    "\n",
    "data = data.T\n",
    "data = np.log(data + 1)\n",
    "\n",
    "obs_names = [filename.split(\"\\\\\")[-1] for filename in data.index.copy()]\n",
    "data.index = obs_names"
   ]
  },
  {
   "cell_type": "code",
   "execution_count": 5,
   "metadata": {},
   "outputs": [],
   "source": [
    "obs_new = [obs.replace(\"-\", \"_\").replace(\"SA_ADB\", \"SA-ADB\") for obs in obs_names]\n",
    "annotations = [obs.split(\"_\") for obs in obs_new]\n",
    "\n",
    "dates = [obs[0] for obs in annotations]\n",
    "unknown1 = [obs[3] for obs in annotations]\n",
    "n_cells = [obs[4] for obs in annotations]\n",
    "species = [obs[5] for obs in annotations]\n",
    "unknown2 = [obs[6] for obs in annotations]\n",
    "unknown3 = [obs[7] for obs in annotations]\n",
    "unknown4 = [obs[8] for obs in annotations]\n",
    "position = [obs[9] for obs in annotations]\n",
    "replicate = [obs[10] for obs in annotations]\n",
    "file_index = [obs[11][:-2] for obs in annotations]\n",
    "\n",
    "condition = [\n",
    "    \"G1\" if \"G1\" in unk2\n",
    "    else \"G1-S\" if \"TB\" == unk2\n",
    "    else \"G2\" if \"G2\" == unk2\n",
    "    else \"G1-M\" if \"NB\" == unk2\n",
    "    else \"UB_Passage01\" if (\"UB\" == unk2) and (\"20201010\" == date)\n",
    "    else \"UB_Passage02_Plate01\" if (\"UB\" == unk2) and (int(file_index) < 5050)\n",
    "    else \"UB_Passage02_Plate02\"\n",
    "    for unk2, file_index, date in zip(unknown2, file_index, dates)\n",
    "]\n",
    "\n",
    "cell_cycle_stage = [\n",
    "    \"G1\" if \"G1\" == name\n",
    "    else \"G1-S\" if \"TB\" == name\n",
    "    else \"G2\" if \"G2\" == name\n",
    "    else \"G2-M\" if \"NB\" == name\n",
    "    else \"other\"\n",
    "    for name in unknown2\n",
    "]\n",
    "\n",
    "coarse_condition = [\"UB\" if \"UB\" in c else \"G\" for c in condition]"
   ]
  },
  {
   "cell_type": "code",
   "execution_count": 6,
   "metadata": {},
   "outputs": [],
   "source": [
    "obs = pd.DataFrame(\n",
    "    {\n",
    "        \"date\": dates,\n",
    "        \"unknown1\": unknown1,\n",
    "        \"n_cells\": n_cells,\n",
    "        \"species\": species,\n",
    "        \"unknown2\": unknown2,\n",
    "        \"unknown3\": unknown3,\n",
    "        \"unknown4\": unknown4,\n",
    "        \"position\": position,\n",
    "        \"replicate\": replicate,\n",
    "        \"file_index\": file_index,\n",
    "        \"condition\": condition,\n",
    "        \"coarse_condition\": coarse_condition,\n",
    "        \"cell_cycle_stage\": cell_cycle_stage,\n",
    "    },\n",
    "\n",
    "    index=obs_names,\n",
    ")\n",
    "\n",
    "adata = sc.AnnData(X=data, var=vars, obs=obs)\n",
    "\n",
    "adata.X[adata.X == 0] = np.NaN\n",
    "adata.layers[\"raw\"] = adata.X.copy()"
   ]
  },
  {
   "cell_type": "code",
   "execution_count": 7,
   "metadata": {},
   "outputs": [],
   "source": [
    "adata.write(\"../../../data/processed/brunner2022.h5ad\")"
   ]
  }
 ],
 "metadata": {
  "kernelspec": {
   "display_name": "scp",
   "language": "python",
   "name": "python3"
  },
  "language_info": {
   "codemirror_mode": {
    "name": "ipython",
    "version": 3
   },
   "file_extension": ".py",
   "mimetype": "text/x-python",
   "name": "python",
   "nbconvert_exporter": "python",
   "pygments_lexer": "ipython3",
   "version": "3.9.19"
  },
  "orig_nbformat": 4
 },
 "nbformat": 4,
 "nbformat_minor": 2
}
